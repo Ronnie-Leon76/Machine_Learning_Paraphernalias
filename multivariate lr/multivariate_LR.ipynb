{
 "cells": [
  {
   "cell_type": "code",
   "execution_count": 1,
   "id": "reserved-jesus",
   "metadata": {},
   "outputs": [],
   "source": [
    "import pandas as pd\n",
    "import matplotlib.pyplot as plt\n",
    "import numpy as np"
   ]
  },
  {
   "cell_type": "code",
   "execution_count": 4,
   "id": "macro-bridal",
   "metadata": {},
   "outputs": [],
   "source": [
    "dataset = pd.read_csv('data.txt', sep=\",\", header = None, names = [\"Size\", \"Bedrooms\", \"Price\"])\n",
    "dataset = dataset.to_numpy()\n"
   ]
  },
  {
   "cell_type": "code",
   "execution_count": 5,
   "id": "minimal-exception",
   "metadata": {},
   "outputs": [],
   "source": [
    "features_X = dataset[:, :-1]\n",
    "target_y = dataset[:, -1:]"
   ]
  },
  {
   "cell_type": "code",
   "execution_count": 6,
   "id": "aggressive-copying",
   "metadata": {},
   "outputs": [
    {
     "data": {
      "text/plain": [
       "(47, 2)"
      ]
     },
     "execution_count": 6,
     "metadata": {},
     "output_type": "execute_result"
    }
   ],
   "source": [
    "features_X.shape"
   ]
  },
  {
   "cell_type": "code",
   "execution_count": 7,
   "id": "exterior-demand",
   "metadata": {},
   "outputs": [
    {
     "data": {
      "text/plain": [
       "(47, 1)"
      ]
     },
     "execution_count": 7,
     "metadata": {},
     "output_type": "execute_result"
    }
   ],
   "source": [
    "target_y.shape"
   ]
  },
  {
   "cell_type": "code",
   "execution_count": 8,
   "id": "obvious-investor",
   "metadata": {},
   "outputs": [],
   "source": [
    "m = len(target_y)"
   ]
  },
  {
   "cell_type": "code",
   "execution_count": 11,
   "id": "personalized-limit",
   "metadata": {},
   "outputs": [],
   "source": [
    "#code is for normalization\n",
    "def featureNormalize(X):\n",
    "    mu = np.mean(features_X, axis = 0 )\n",
    "    sigma = np.std(features_X, axis = 0)\n",
    "    X_norm = (X - mu)/sigma\n",
    "    return mu, sigma, X_norm\n",
    "                 \n",
    "mu, sigma, features_X = featureNormalize(features_X)\n",
    "features_X = np.concatenate((np.ones((m, 1), dtype=np.int8), features_X), axis = 1)"
   ]
  },
  {
   "cell_type": "code",
   "execution_count": 12,
   "id": "impressive-wildlife",
   "metadata": {},
   "outputs": [
    {
     "data": {
      "text/plain": [
       "array([[ 1.00000000e+00,  1.31415422e-01, -2.26093368e-01],\n",
       "       [ 1.00000000e+00, -5.09640698e-01, -2.26093368e-01],\n",
       "       [ 1.00000000e+00,  5.07908699e-01, -2.26093368e-01],\n",
       "       [ 1.00000000e+00, -7.43677059e-01, -1.55439190e+00],\n",
       "       [ 1.00000000e+00,  1.27107075e+00,  1.10220517e+00],\n",
       "       [ 1.00000000e+00, -1.99450507e-02,  1.10220517e+00],\n",
       "       [ 1.00000000e+00, -5.93588523e-01, -2.26093368e-01],\n",
       "       [ 1.00000000e+00, -7.29685755e-01, -2.26093368e-01],\n",
       "       [ 1.00000000e+00, -7.89466782e-01, -2.26093368e-01],\n",
       "       [ 1.00000000e+00, -6.44465993e-01, -2.26093368e-01],\n",
       "       [ 1.00000000e+00, -7.71822042e-02,  1.10220517e+00],\n",
       "       [ 1.00000000e+00, -8.65999486e-04, -2.26093368e-01],\n",
       "       [ 1.00000000e+00, -1.40779041e-01, -2.26093368e-01],\n",
       "       [ 1.00000000e+00,  3.15099326e+00,  2.43050370e+00],\n",
       "       [ 1.00000000e+00, -9.31923697e-01, -2.26093368e-01],\n",
       "       [ 1.00000000e+00,  3.80715024e-01,  1.10220517e+00],\n",
       "       [ 1.00000000e+00, -8.65782986e-01, -1.55439190e+00],\n",
       "       [ 1.00000000e+00, -9.72625673e-01, -2.26093368e-01],\n",
       "       [ 1.00000000e+00,  7.73743478e-01,  1.10220517e+00],\n",
       "       [ 1.00000000e+00,  1.31050078e+00,  1.10220517e+00],\n",
       "       [ 1.00000000e+00, -2.97227261e-01, -2.26093368e-01],\n",
       "       [ 1.00000000e+00, -1.43322915e-01, -1.55439190e+00],\n",
       "       [ 1.00000000e+00, -5.04552951e-01, -2.26093368e-01],\n",
       "       [ 1.00000000e+00, -4.91995958e-02,  1.10220517e+00],\n",
       "       [ 1.00000000e+00,  2.40309445e+00, -2.26093368e-01],\n",
       "       [ 1.00000000e+00, -1.14560907e+00, -2.26093368e-01],\n",
       "       [ 1.00000000e+00, -6.90255715e-01, -2.26093368e-01],\n",
       "       [ 1.00000000e+00,  6.68172729e-01, -2.26093368e-01],\n",
       "       [ 1.00000000e+00,  2.53521350e-01, -2.26093368e-01],\n",
       "       [ 1.00000000e+00,  8.09357707e-01, -2.26093368e-01],\n",
       "       [ 1.00000000e+00, -2.05647815e-01, -1.55439190e+00],\n",
       "       [ 1.00000000e+00, -1.27280274e+00, -2.88269044e+00],\n",
       "       [ 1.00000000e+00,  5.00114703e-02,  1.10220517e+00],\n",
       "       [ 1.00000000e+00,  1.44532608e+00, -2.26093368e-01],\n",
       "       [ 1.00000000e+00, -2.41262044e-01,  1.10220517e+00],\n",
       "       [ 1.00000000e+00, -7.16966387e-01, -2.26093368e-01],\n",
       "       [ 1.00000000e+00, -9.68809863e-01, -2.26093368e-01],\n",
       "       [ 1.00000000e+00,  1.67029651e-01,  1.10220517e+00],\n",
       "       [ 1.00000000e+00,  2.81647389e+00,  1.10220517e+00],\n",
       "       [ 1.00000000e+00,  2.05187753e-01,  1.10220517e+00],\n",
       "       [ 1.00000000e+00, -4.28236746e-01, -1.55439190e+00],\n",
       "       [ 1.00000000e+00,  3.01854946e-01, -2.26093368e-01],\n",
       "       [ 1.00000000e+00,  7.20322135e-01,  1.10220517e+00],\n",
       "       [ 1.00000000e+00, -1.01841540e+00, -2.26093368e-01],\n",
       "       [ 1.00000000e+00, -1.46104938e+00, -1.55439190e+00],\n",
       "       [ 1.00000000e+00, -1.89112638e-01,  1.10220517e+00],\n",
       "       [ 1.00000000e+00, -1.01459959e+00, -2.26093368e-01]])"
      ]
     },
     "execution_count": 12,
     "metadata": {},
     "output_type": "execute_result"
    }
   ],
   "source": [
    "features_X"
   ]
  },
  {
   "cell_type": "code",
   "execution_count": 14,
   "id": "cross-coach",
   "metadata": {},
   "outputs": [],
   "source": [
    "#compute cost\n",
    "def computeCost(features_X, target_y, theta):\n",
    "    J = 0\n",
    "    hypothesis_func = np.dot(features_X, theta) #multivariate regression model (predicted)\n",
    "    sqr_errors = np.power((hypothesis_func - target_y ), 2)\n",
    "    J = (1/(2*m)) * np.sum(sqr_errors)\n",
    "    return J\n",
    "    "
   ]
  },
  {
   "cell_type": "code",
   "execution_count": 15,
   "id": "cardiac-function",
   "metadata": {},
   "outputs": [],
   "source": [
    "iterations = 400\n",
    "learning_rate = 0.01"
   ]
  },
  {
   "cell_type": "code",
   "execution_count": 22,
   "id": "employed-theorem",
   "metadata": {},
   "outputs": [],
   "source": [
    "def gradientDescent(features_X, target_y, theta, learning_rate, iterations):\n",
    "    cost_hist = np.zeros(iterations)\n",
    "    theta_hist = np.zeros((iterations, 2))\n",
    "    for iteration in range(iterations):\n",
    "        prediction = features_X.dot(theta)\n",
    "        theta = theta - (1/m) * learning_rate * (features_X.T.dot((prediction - target_y)))\n",
    "        cost_hist[iteration] = computeCost(features_X, target_y, theta)\n",
    "        \n",
    "    return theta, cost_hist\n",
    "        \n"
   ]
  },
  {
   "cell_type": "code",
   "execution_count": 23,
   "id": "reported-extension",
   "metadata": {},
   "outputs": [],
   "source": [
    "theta = np.zeros((3, 1))\n",
    "theta, cost_values = gradientDescent(features_X, target_y, theta, learning_rate, iterations)"
   ]
  },
  {
   "cell_type": "code",
   "execution_count": 24,
   "id": "fiscal-bowling",
   "metadata": {},
   "outputs": [],
   "source": [
    "plt.style.use('seaborn-whitegrid')"
   ]
  },
  {
   "cell_type": "code",
   "execution_count": 25,
   "id": "documented-lesbian",
   "metadata": {},
   "outputs": [
    {
     "data": {
      "image/png": "[encoded data removed]",
      "text/plain": [
       "<Figure size 720x432 with 1 Axes>"
      ]
     },
     "metadata": {},
     "output_type": "display_data"
    }
   ],
   "source": [
    "fig, ax = plt.subplots(figsize = (10, 6))\n",
    "ax.plot(cost_values, '-', c = \"red\")\n",
    "ax.set_xlabel('iterations')\n",
    "ax.set_ylabel('Cost')\n",
    "ax.set_title(\"Error vs Training Epoch\")\n",
    "plt.show()"
   ]
  },
  {
   "cell_type": "code",
   "execution_count": 26,
   "id": "hungry-universe",
   "metadata": {},
   "outputs": [
    {
     "data": {
      "text/plain": [
       "2000.6808510638298"
      ]
     },
     "execution_count": 26,
     "metadata": {},
     "output_type": "execute_result"
    }
   ],
   "source": [
    "mu[0]"
   ]
  },
  {
   "cell_type": "code",
   "execution_count": 27,
   "id": "fitting-trace",
   "metadata": {},
   "outputs": [
    {
     "data": {
      "text/plain": [
       "786.2026187430467"
      ]
     },
     "execution_count": 27,
     "metadata": {},
     "output_type": "execute_result"
    }
   ],
   "source": [
    "sigma[0]"
   ]
  },
  {
   "cell_type": "code",
   "execution_count": 29,
   "id": "personalized-blues",
   "metadata": {},
   "outputs": [
    {
     "data": {
      "text/plain": [
       "(-0.4460438603276164, -0.2260933675776883)"
      ]
     },
     "execution_count": 29,
     "metadata": {},
     "output_type": "execute_result"
    }
   ],
   "source": [
    "temp = np.array([[1, 1650, 3]], dtype = 'f')\n",
    "a = (temp[0][1] - mu[0])/sigma[0]\n",
    "b = (temp[0][2] - mu[1])/sigma[1]\n",
    "temp[0, 1] = a\n",
    "temp[0, 2 ] = b\n",
    "a, b"
   ]
  },
  {
   "cell_type": "code",
   "execution_count": 30,
   "id": "suitable-charleston",
   "metadata": {},
   "outputs": [
    {
     "data": {
      "text/plain": [
       "array([[ 1.        , -0.44604385, -0.22609337]], dtype=float32)"
      ]
     },
     "execution_count": 30,
     "metadata": {},
     "output_type": "execute_result"
    }
   ],
   "source": [
    "temp"
   ]
  },
  {
   "cell_type": "code",
   "execution_count": 31,
   "id": "olympic-place",
   "metadata": {},
   "outputs": [
    {
     "data": {
      "text/plain": [
       "-2.990783339000278"
      ]
     },
     "execution_count": 31,
     "metadata": {},
     "output_type": "execute_result"
    }
   ],
   "source": [
    "temp[0][1] - mu[0]/ sigma[0]"
   ]
  },
  {
   "cell_type": "code",
   "execution_count": null,
   "id": "secondary-radiation",
   "metadata": {},
   "outputs": [],
   "source": []
  }
 ],
 "metadata": {
  "kernelspec": {
   "display_name": "Python 3",
   "language": "python",
   "name": "python3"
  },
  "language_info": {
   "codemirror_mode": {
    "name": "ipython",
    "version": 3
   },
   "file_extension": ".py",
   "mimetype": "text/x-python",
   "name": "python",
   "nbconvert_exporter": "python",
   "pygments_lexer": "ipython3",
   "version": "3.8.5"
  }
 },
 "nbformat": 4,
 "nbformat_minor": 5
}
